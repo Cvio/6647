{
  "nbformat": 4,
  "nbformat_minor": 0,
  "metadata": {
    "colab": {
      "provenance": []
    },
    "kernelspec": {
      "name": "python3",
      "display_name": "Python 3"
    },
    "language_info": {
      "name": "python"
    }
  },
  "cells": [
    {
      "cell_type": "markdown",
      "source": [
        "# CS6647 HW-1\n",
        "## Steven Robbins\n",
        "## 05/26/2023"
      ],
      "metadata": {
        "id": "ZV0HlvAnStVf"
      }
    },
    {
      "cell_type": "code",
      "source": [
        "# import needed libraries\n",
        "from sympy import *"
      ],
      "metadata": {
        "id": "xlX8ZjPqLJoW"
      },
      "execution_count": 4,
      "outputs": []
    },
    {
      "cell_type": "markdown",
      "source": [
        "## Problem #1\n",
        "## x^2 + 2x - 8 = 0"
      ],
      "metadata": {
        "id": "-UWJndSdSjDn"
      }
    },
    {
      "cell_type": "code",
      "source": [
        "# define our variable with the sympy symbols function\n",
        "x = symbols('x')\n",
        "\n",
        "# define our problem with the sympy Eq equality function\n",
        "eq = Eq(x**2 + 2*x - 8 , 0)\n",
        "\n",
        "# solve using the sympy solve function\n",
        "sol = solve(eq, x)"
      ],
      "metadata": {
        "id": "1I39FjuLLPJE"
      },
      "execution_count": 5,
      "outputs": []
    },
    {
      "cell_type": "code",
      "source": [
        "print(sol)"
      ],
      "metadata": {
        "colab": {
          "base_uri": "https://localhost:8080/"
        },
        "id": "La33xRGcMpzn",
        "outputId": "c475cb62-d1f6-49a1-de56-3e3869f9edf1"
      },
      "execution_count": 6,
      "outputs": [
        {
          "output_type": "stream",
          "name": "stdout",
          "text": [
            "[-4, 2]\n"
          ]
        }
      ]
    },
    {
      "cell_type": "markdown",
      "source": [
        "## Problem #2\n",
        "## Find a function in which f(x) = f'(x)\n",
        "###  (I think that's what this is asking, anyway.)"
      ],
      "metadata": {
        "id": "tORxeBiSqvtq"
      }
    },
    {
      "cell_type": "code",
      "source": [
        "# define our variable with the sympy symbols function\n",
        "x = symbols('x')\n",
        "\n",
        "# and a function of x with the sympy Function\n",
        "f = Function('f')(x)"
      ],
      "metadata": {
        "id": "lvDgofJSNfZ-"
      },
      "execution_count": 7,
      "outputs": []
    },
    {
      "cell_type": "code",
      "source": [
        "# I think we can use sympy to define a\n",
        "# differential eq using the sympy Derivative\n",
        "# and subtract the original function of x\n",
        "D = Derivative(f, x)\n",
        "\n",
        "# with the derivative set up, we just need to subtract the f(x)\n",
        "# and set it equal t0 zero using the sympy Eq\n",
        "diff_eq = Eq(D - f, 0)"
      ],
      "metadata": {
        "id": "dE2LnbL2wKnC"
      },
      "execution_count": 8,
      "outputs": []
    },
    {
      "cell_type": "code",
      "source": [
        "# to solve a differential equation sympy has a dsolve function\n",
        "sol = dsolve(diff_eq, f)"
      ],
      "metadata": {
        "id": "fWe33Hzpx0sx"
      },
      "execution_count": 9,
      "outputs": []
    },
    {
      "cell_type": "markdown",
      "source": [
        "### I wasn't sure how to interpret the answer that Python displays but it appears that after some reading into it:\n",
        "### exp(x) = e^x, so that, the answer could be read as the function f(x) is a constant C1 multiplied by the exponential function e^x"
      ],
      "metadata": {
        "id": "-ZnfCohE3fEd"
      }
    },
    {
      "cell_type": "code",
      "source": [
        "print(sol)"
      ],
      "metadata": {
        "colab": {
          "base_uri": "https://localhost:8080/"
        },
        "id": "E2W_B1L4yT-u",
        "outputId": "43f5e248-434c-4d1d-994d-d7f22e9d1d1e"
      },
      "execution_count": 10,
      "outputs": [
        {
          "output_type": "stream",
          "name": "stdout",
          "text": [
            "Eq(f(x), C1*exp(x))\n"
          ]
        }
      ]
    },
    {
      "cell_type": "markdown",
      "source": [
        "## Problem #3\n",
        "## Get the definite integral of f(x) = x^3 from x = 0 to x = 1"
      ],
      "metadata": {
        "id": "rFfa0GiczamM"
      }
    },
    {
      "cell_type": "code",
      "source": [
        "# define our variable with the sympy symbols function\n",
        "x = symbols('x')\n",
        "\n",
        "# and the f(x) fuction\n",
        "f = x**3"
      ],
      "metadata": {
        "id": "0fDBwQWwyeiO"
      },
      "execution_count": 11,
      "outputs": []
    },
    {
      "cell_type": "markdown",
      "source": [
        "### There is a SymPy integrate function so we just need the absolute value of\n",
        "### f(x) and the range. Then the integrate function just takes the two parameters"
      ],
      "metadata": {
        "id": "2sl6woZu5JCd"
      }
    },
    {
      "cell_type": "code",
      "source": [
        "# abs of the function\n",
        "abs = Abs(f)\n",
        "\n",
        "# tuple for the range\n",
        "rng = (x, 0, 1)\n",
        "\n",
        "# compute the definite integral\n",
        "integ = integrate(abs, rng)"
      ],
      "metadata": {
        "id": "pSgyTC085IVb"
      },
      "execution_count": 12,
      "outputs": []
    },
    {
      "cell_type": "markdown",
      "source": [
        "### The area under the curve is 1/4"
      ],
      "metadata": {
        "id": "KpRxIVUv6OwJ"
      }
    },
    {
      "cell_type": "code",
      "source": [
        "print(integ)"
      ],
      "metadata": {
        "colab": {
          "base_uri": "https://localhost:8080/"
        },
        "id": "Yj21T4LB6Aha",
        "outputId": "df5ba05b-f69f-4f8c-c2c8-abfb74c6ab89"
      },
      "execution_count": 13,
      "outputs": [
        {
          "output_type": "stream",
          "name": "stdout",
          "text": [
            "1/4\n"
          ]
        }
      ]
    },
    {
      "cell_type": "markdown",
      "source": [
        "### Problem #4\n",
        "### Σ\\[x=0, oo\\]\\(1/x!\\)\n",
        "### or 'the sum of the series from zero to infinity, where each term is 1 over the factorial of x'"
      ],
      "metadata": {
        "id": "ZhlecQuG8uu1"
      }
    },
    {
      "cell_type": "code",
      "source": [
        "# set up our symbols\n",
        "# x = symbols('x n') doesn't work for infinite series ?\n",
        "\n",
        "x = symbols('x')\n",
        "n = symbols('n', integer=True)\n",
        "print(x,n)"
      ],
      "metadata": {
        "colab": {
          "base_uri": "https://localhost:8080/"
        },
        "id": "s13vwgr16EcB",
        "outputId": "0d0cae88-514c-4940-b0f8-5851d35dc855"
      },
      "execution_count": 14,
      "outputs": [
        {
          "output_type": "stream",
          "name": "stdout",
          "text": [
            "x n\n"
          ]
        }
      ]
    },
    {
      "cell_type": "code",
      "source": [
        "# create an expression for the terms\n",
        "# exp = 1 / factorial(x)\n",
        "\n",
        "exp = Sum(1/factorial(x), (x, 0, oo))"
      ],
      "metadata": {
        "id": "ElcG25wz-gK_"
      },
      "execution_count": 15,
      "outputs": []
    },
    {
      "cell_type": "code",
      "source": [
        "# this didnt work for infinite series, had to do some more reading\n",
        "# sum = summation(exp, 0, )\n",
        "\n",
        "# alt-236 doesn't work for infinity symbol - had to copy-paste\n",
        "# sum = Sum(exp, (n, 0, oo))\n",
        "\n",
        "# compute the PARTIAL sum\n",
        "# part_sum = sum.doit().simplify()\n",
        "\n",
        "result = exp.doit()\n",
        "result = nsimplify(result)"
      ],
      "metadata": {
        "id": "45aPCFKY-57y"
      },
      "execution_count": 16,
      "outputs": []
    },
    {
      "cell_type": "code",
      "source": [
        "print(result)\n",
        "# print(sum)\n",
        "# print(part_sum)"
      ],
      "metadata": {
        "colab": {
          "base_uri": "https://localhost:8080/"
        },
        "id": "PiiKZTtgAjU1",
        "outputId": "0ba36ded-b2af-459b-949b-c5c825e97d8d"
      },
      "execution_count": 17,
      "outputs": [
        {
          "output_type": "stream",
          "name": "stdout",
          "text": [
            "E\n"
          ]
        }
      ]
    },
    {
      "cell_type": "markdown",
      "source": [
        "### Problem #5\n",
        "### Calculate the limit: lim(n->oo)(1 + 1/n)^n"
      ],
      "metadata": {
        "id": "Y4Bd4BNvg9ms"
      }
    },
    {
      "cell_type": "code",
      "source": [
        "# set up symbols and our expression\n",
        "n = symbols('n')\n",
        "exp = (1 + 1/n)**n"
      ],
      "metadata": {
        "id": "qL0gim6HgMFJ"
      },
      "execution_count": 18,
      "outputs": []
    },
    {
      "cell_type": "code",
      "source": [
        "# set up the limit calc using the limit sympy function\n",
        "lim = limit(exp, n, oo)"
      ],
      "metadata": {
        "id": "FZ0FjGeqjnN3"
      },
      "execution_count": 19,
      "outputs": []
    },
    {
      "cell_type": "code",
      "source": [
        "print(lim)"
      ],
      "metadata": {
        "colab": {
          "base_uri": "https://localhost:8080/"
        },
        "id": "5wJdPXxSjwPG",
        "outputId": "4ad45485-8770-4b36-904b-a5b36a9bf325"
      },
      "execution_count": 20,
      "outputs": [
        {
          "output_type": "stream",
          "name": "stdout",
          "text": [
            "E\n"
          ]
        }
      ]
    },
    {
      "cell_type": "markdown",
      "source": [
        "### Problem #6\n",
        "### Flip a matrix through its diagonal\n"
      ],
      "metadata": {
        "id": "ygANKY-KmO98"
      }
    },
    {
      "cell_type": "code",
      "source": [
        "# I'm taking this as transposing columns and rows\n",
        "# define our matrix with sympy Matrix\n",
        "M = Matrix([ [ 2,-3,-8, 7],\n",
        "                  [-2,-1, 2,-7],\n",
        "                  [ 1, 0,-3, 6] ])\n",
        "\n",
        "# use the sympy transpose funciton from the Matrix class\n",
        "flip = M.transpose()"
      ],
      "metadata": {
        "id": "93rcLsMIjyeu"
      },
      "execution_count": 21,
      "outputs": []
    },
    {
      "cell_type": "code",
      "source": [
        "# using repr function to make the matrix easier to read\n",
        "print('Before:\\n')\n",
        "print(repr(M))\n",
        "print('\\n')\n",
        "print('After:\\n')\n",
        "print(repr(flip))"
      ],
      "metadata": {
        "colab": {
          "base_uri": "https://localhost:8080/"
        },
        "id": "Fv0fzjnwqDlf",
        "outputId": "06dccb56-3280-404d-e28a-ea7d082610c0"
      },
      "execution_count": 22,
      "outputs": [
        {
          "output_type": "stream",
          "name": "stdout",
          "text": [
            "Before:\n",
            "\n",
            "Matrix([\n",
            "[ 2, -3, -8,  7],\n",
            "[-2, -1,  2, -7],\n",
            "[ 1,  0, -3,  6]])\n",
            "\n",
            "\n",
            "After:\n",
            "\n",
            "Matrix([\n",
            "[ 2, -2,  1],\n",
            "[-3, -1,  0],\n",
            "[-8,  2, -3],\n",
            "[ 7, -7,  6]])\n"
          ]
        }
      ]
    },
    {
      "cell_type": "markdown",
      "source": [
        "### Problem #7\n",
        "### Do matrix row operations to R2 ← R2 + 3R1\n",
        "### Update Row 2 to R2+3*R1"
      ],
      "metadata": {
        "id": "Blo7gzutxRzG"
      }
    },
    {
      "cell_type": "code",
      "source": [
        "# create a 3x3 identity matrix with eye function\n",
        "# identity matrix should have 1s in its pricipal\n",
        "# row and 0s in the other elements\n",
        "M = eye(3)\n",
        "print(repr(M))"
      ],
      "metadata": {
        "colab": {
          "base_uri": "https://localhost:8080/"
        },
        "id": "RX0ND4T_xVI_",
        "outputId": "256100ba-14c0-4fe6-89d4-62041f7a7eb6"
      },
      "execution_count": 23,
      "outputs": [
        {
          "output_type": "stream",
          "name": "stdout",
          "text": [
            "Matrix([\n",
            "[1, 0, 0],\n",
            "[0, 1, 0],\n",
            "[0, 0, 1]])\n"
          ]
        }
      ]
    },
    {
      "cell_type": "code",
      "source": [
        "# row 2 is equal to row 2 plus row 1 multiplied by 3\n",
        "M[1, :] = M[1, :] + M[0, :] * 3\n",
        "\n",
        "# print the matrix\n",
        "print(repr(M))"
      ],
      "metadata": {
        "colab": {
          "base_uri": "https://localhost:8080/"
        },
        "id": "xlGCVGRSKo9r",
        "outputId": "98b067d0-eee0-43eb-a9bb-3a8ada0ecb43"
      },
      "execution_count": 24,
      "outputs": [
        {
          "output_type": "stream",
          "name": "stdout",
          "text": [
            "Matrix([\n",
            "[1, 0, 0],\n",
            "[3, 1, 0],\n",
            "[0, 0, 1]])\n"
          ]
        }
      ]
    },
    {
      "cell_type": "markdown",
      "source": [
        "### Problem #8\n",
        "### Find the eigenvalue and eigenvector of the matrix."
      ],
      "metadata": {
        "id": "hk6fC7k-OEHE"
      }
    },
    {
      "cell_type": "code",
      "source": [
        "# set up our matrix\n",
        "M = Matrix( [[ 9, -2],\n",
        "             [-2, 6]] )"
      ],
      "metadata": {
        "id": "b3GUEkP9MlpJ"
      },
      "execution_count": 25,
      "outputs": []
    },
    {
      "cell_type": "code",
      "source": [
        "# sympy has functions for eigenvectors and eigenvalues\n",
        "evals = M.eigenvals()\n",
        "evecs = M.eigenvects()"
      ],
      "metadata": {
        "id": "a-U46QWnOPj4"
      },
      "execution_count": 26,
      "outputs": []
    },
    {
      "cell_type": "code",
      "source": [
        "# this returns key value pairs of an eigenvalue and a multiplicity\n",
        "evals"
      ],
      "metadata": {
        "colab": {
          "base_uri": "https://localhost:8080/"
        },
        "id": "jPQ5jU__Q6_Z",
        "outputId": "c3655b93-6f65-4bbe-9fea-ea87cd54632c"
      },
      "execution_count": 27,
      "outputs": [
        {
          "output_type": "execute_result",
          "data": {
            "text/plain": [
              "{10: 1, 5: 1}"
            ]
          },
          "metadata": {},
          "execution_count": 27
        }
      ]
    },
    {
      "cell_type": "code",
      "source": [
        "# returns a list of tuples that is the eigenvalue and eigenvector\n",
        "evecs"
      ],
      "metadata": {
        "colab": {
          "base_uri": "https://localhost:8080/"
        },
        "id": "maLocYijRs9a",
        "outputId": "6bb8463b-c009-412d-e803-8fce8d631ae1"
      },
      "execution_count": 28,
      "outputs": [
        {
          "output_type": "execute_result",
          "data": {
            "text/plain": [
              "[(5,\n",
              "  1,\n",
              "  [Matrix([\n",
              "   [1/2],\n",
              "   [  1]])]),\n",
              " (10,\n",
              "  1,\n",
              "  [Matrix([\n",
              "   [-2],\n",
              "   [ 1]])])]"
            ]
          },
          "metadata": {},
          "execution_count": 28
        }
      ]
    },
    {
      "cell_type": "code",
      "source": [
        "# eigenvalues function returns an eigenvalue\n",
        "# and a multiplicity\n",
        "# Print the results\n",
        "print(\"Returned from eigenvalues function\")\n",
        "print(\"********************************\")\n",
        "for eigenval in evals:\n",
        "    print(f'Eigenvalues: {eigenval} : Multiplicity: {evals[eigenval]}')\n",
        "\n",
        "print('')\n",
        "\n",
        "\n",
        "# eigenvectors function returns a list of tuples that\n",
        "# contains eigenvalues and eigenvectors\n",
        "print(\"Returned from eigenvectors function\")\n",
        "print(\"*********************************\")\n",
        "for eigenvec in evecs:\n",
        "    print(\"Eigenvalue:\", repr(eigenvec[0]))\n",
        "    print(\"Eigenvector:\", repr(eigenvec[2][0]))\n",
        "    print()\n"
      ],
      "metadata": {
        "colab": {
          "base_uri": "https://localhost:8080/"
        },
        "id": "A78y5hINQ9Vt",
        "outputId": "5115b95c-7f50-411a-d0d9-6800ece04250"
      },
      "execution_count": 29,
      "outputs": [
        {
          "output_type": "stream",
          "name": "stdout",
          "text": [
            "Returned from eigenvalues function\n",
            "********************************\n",
            "Eigenvalues: 10 : Multiplicity: 1\n",
            "Eigenvalues: 5 : Multiplicity: 1\n",
            "\n",
            "Returned from eigenvectors function\n",
            "*********************************\n",
            "Eigenvalue: 5\n",
            "Eigenvector: Matrix([\n",
            "[1/2],\n",
            "[  1]])\n",
            "\n",
            "Eigenvalue: 10\n",
            "Eigenvector: Matrix([\n",
            "[-2],\n",
            "[ 1]])\n",
            "\n"
          ]
        }
      ]
    },
    {
      "cell_type": "markdown",
      "source": [
        "### Problem #10\n",
        "### Implement the Lotka-Voltarre pred/prey model\n",
        "### Prey:\n",
        "### dx/dt = αx - βxy = x(α - βy)\n",
        "### Predator:\n",
        "### dy/dt = δxy - γy = y(δx - γ)"
      ],
      "metadata": {
        "id": "LFVe9dDI_esn"
      }
    },
    {
      "cell_type": "code",
      "source": [
        "import pandas as pd\n",
        "import numpy as np\n",
        "import matplotlib.pyplot as plt\n",
        "from scipy.integrate import odeint \n",
        "import ipywidgets as ipw"
      ],
      "metadata": {
        "id": "JbJFkZ83o3An"
      },
      "execution_count": 30,
      "outputs": []
    },
    {
      "cell_type": "code",
      "source": [
        "\n",
        "# parameters given\n",
        "alpha = 1.1 # growth rate of prey w/o predation\n",
        "beta  = 0.4 # death rate of prey w/ predation\n",
        "delta = 0.1 # growth rate of predators\n",
        "gamma = 0.4 # death rate of predators w/o prey (starvation)\n",
        "\n",
        "# carrying capacity wasn't specified but see\n",
        "#  a lot of examples using it\n",
        "# k1 = 100\n",
        "# k2 = 100\n",
        "\n",
        "# initial conditions (population in hundreds)\n",
        "fish_pop = 10\n",
        "bear_pop = 1\n",
        "y0 = [fish_pop, bear_pop]\n",
        "\n",
        "# time range\n",
        "t = np.linspace(0, 50, num=1000)"
      ],
      "metadata": {
        "id": "MWpTKeKsqmbH"
      },
      "execution_count": 31,
      "outputs": []
    },
    {
      "cell_type": "code",
      "source": [
        "# function defining the model\n",
        "def pred_prey(y, t):\n",
        "    fish = y[0]\n",
        "    bear = y[1]\n",
        "    d_fish_dt = alpha * fish - beta * fish * bear\n",
        "    d_bear_dt = delta * fish * bear - gamma * bear\n",
        "    return [d_fish_dt, d_bear_dt]"
      ],
      "metadata": {
        "id": "oQbLYxYv7efr"
      },
      "execution_count": 32,
      "outputs": []
    },
    {
      "cell_type": "code",
      "source": [
        "# the ODE system\n",
        "populations = odeint(pred_prey, y0, t)\n",
        "fish_pop_change = populations[:, 0]\n",
        "bear_pop_change = populations[:, 1]"
      ],
      "metadata": {
        "id": "z1iwK8VO7eW6"
      },
      "execution_count": 33,
      "outputs": []
    },
    {
      "cell_type": "code",
      "source": [
        "# viz\n",
        "plt.plot(t, fish_pop_change, label='Fish')\n",
        "plt.plot(t, bear_pop_change, label='Bear')\n",
        "plt.xlabel('Time')\n",
        "plt.ylabel('Population (hundreds)')\n",
        "plt.title('Predator-Prey Simulation using ODE')\n",
        "plt.legend()\n",
        "plt.show()"
      ],
      "metadata": {
        "colab": {
          "base_uri": "https://localhost:8080/",
          "height": 472
        },
        "id": "D5v0pMdy7eUt",
        "outputId": "af57c548-518f-41d4-eaad-388d7bbd23cd"
      },
      "execution_count": 34,
      "outputs": [
        {
          "output_type": "display_data",
          "data": {
            "text/plain": [
              "<Figure size 640x480 with 1 Axes>"
            ],
            "image/png": "[encoded data removed]"
          },
          "metadata": {}
        }
      ]
    },
    {
      "cell_type": "markdown",
      "source": [
        "## Testing things from the lecture videos"
      ],
      "metadata": {
        "id": "3b1ZCh3hxkpi"
      }
    },
    {
      "cell_type": "code",
      "source": [
        "import sympy as sp\n",
        "import numpy as np\n",
        "import matplotlib.pyplot as plt\n",
        "\n",
        "t = sp.symbols('t')  # time\n",
        "x = sp.Function('x')(t)  # displacement\n",
        "\n",
        "# params\n",
        "m = 1.0  # mass\n",
        "k = 2.0  # spring constant\n",
        "c = 0.005  # damping coefficient\n",
        "\n",
        "# not sure why this isn't neg k/m * x\n",
        "acceleration = (k/m) * x \n",
        "\n",
        "# equation of motion (differential equation)\n",
        "eq = sp.diff(x, t, t) + (c/m) * sp.diff(x, t) + acceleration\n",
        "\n",
        "# size of initial displacement of the mass\n",
        "init_displacement = 10\n",
        "\n",
        "# define the time range\n",
        "t_values = np.linspace(0, 100, 1000)\n",
        "\n",
        "# solve the differential equation with initial conditions\n",
        "solution = sp.dsolve(eq, ics={x.subs(t, 0): init_displacement, x.diff(t).subs(t, 0): 0})\n",
        "\n",
        "# evaluate the solution for the displacement at each time point\n",
        "x_values = [solution.rhs.subs(t, t_val) for t_val in t_values]\n",
        "\n",
        "# plot the displacement vs. time\n",
        "plt.plot(t_values, x_values)\n",
        "plt.xlabel('Time')\n",
        "plt.ylabel('Displacement')\n",
        "plt.title('Damped Simple Harmonic Motion')\n",
        "plt.grid(True)\n",
        "plt.show()\n"
      ],
      "metadata": {
        "colab": {
          "base_uri": "https://localhost:8080/",
          "height": 472
        },
        "id": "_DlCqAIJQ9BE",
        "outputId": "47391048-b921-4f74-d137-c69214334d1f"
      },
      "execution_count": 45,
      "outputs": [
        {
          "output_type": "display_data",
          "data": {
            "text/plain": [
              "<Figure size 640x480 with 1 Axes>"
            ],
            "image/png": "[encoded data removed]"
          },
          "metadata": {}
        }
      ]
    },
    {
      "cell_type": "code",
      "source": [],
      "metadata": {
        "id": "MJiHLVM56nj9"
      },
      "execution_count": 36,
      "outputs": []
    }
  ]
}