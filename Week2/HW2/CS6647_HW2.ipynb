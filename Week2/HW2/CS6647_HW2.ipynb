{
  "nbformat": 4,
  "nbformat_minor": 0,
  "metadata": {
    "colab": {
      "provenance": []
    },
    "kernelspec": {
      "name": "python3",
      "display_name": "Python 3"
    },
    "language_info": {
      "name": "python"
    }
  },
  "cells": [
    {
      "cell_type": "markdown",
      "source": [
        "# CS6647 HW-2\n",
        "## Steven Robbins\n",
        "## 06/05/2023"
      ],
      "metadata": {
        "id": "Q6u262mBuECT"
      }
    },
    {
      "cell_type": "markdown",
      "source": [
        "### Problem #1 Use for loop to generate 3 random integers between 100 and 999 which is divisible by 5"
      ],
      "metadata": {
        "id": "IoZrYJsaujFL"
      }
    },
    {
      "cell_type": "code",
      "source": [
        "import random\n",
        "\n",
        "# vars\n",
        "min = 100\n",
        "max = 999\n",
        "nums = []\n",
        "\n",
        "# for loop just to count to 3\n",
        "# create a random int and if\n",
        "# div by 5 add to nums list\n",
        "for count in range(3):\n",
        "    while True:\n",
        "        rnum = random.randint(min, max)\n",
        "        if rnum % 5 == 0:\n",
        "            nums.append(rnum)\n",
        "            break\n",
        "\n",
        "print(nums)"
      ],
      "metadata": {
        "colab": {
          "base_uri": "https://localhost:8080/"
        },
        "id": "g8-G9n5UK9Re",
        "outputId": "30792fb8-6197-46c1-ed90-699b73d4806a"
      },
      "execution_count": 1,
      "outputs": [
        {
          "output_type": "stream",
          "name": "stdout",
          "text": [
            "[520, 690, 675]\n"
          ]
        }
      ]
    },
    {
      "cell_type": "markdown",
      "source": [
        "### Problem #2 The Logistic distribution is used in Extreme Value problems where it can act as a mixture of Gumbel distributions.\n",
        "### Draw samples from a logistic distribution and plot it.\n",
        "### loc=10, scale=1 and size=1000"
      ],
      "metadata": {
        "id": "tezuEu_6Oiem"
      }
    },
    {
      "cell_type": "markdown",
      "source": [
        "\n",
        "### Study Notes\n",
        "\n",
        "*   logistic distribution describes the likelihood of events in extreme value scenarios\n",
        "\n",
        "*   visual metaphor - a bag of marbles representing samples from the logistic distribution\n",
        "\n",
        "*   loc - represents the center of the bag where marbles are concentrated\n",
        "\n",
        "*   scale - determines how spread out the marbles are around the center\n",
        "\n",
        "*   size - number of samples - draw 1000 marbles\n",
        "\n",
        "*   drawing samples - drawing marbles from the bag\n",
        "\n",
        "*   x-axis - the value of the marbles\n",
        "\n",
        "*   y-axis - the density or likelihood of finding marbles at different values\n",
        "\n",
        "\n",
        "\n"
      ],
      "metadata": {
        "id": "_KklCuKty2iH"
      }
    },
    {
      "cell_type": "code",
      "source": [
        "import numpy as np\n",
        "import matplotlib.pyplot as plt\n",
        "\n",
        "\n",
        "# params\n",
        "loc = 10\n",
        "scale = 1\n",
        "size = 1000\n",
        "\n",
        "# draw samples from the logistic distribution\n",
        "samples = np.random.logistic(loc, scale, size)\n",
        "\n",
        "# histogram of the samples\n",
        "plt.hist(samples, bins=30, density=True, alpha=0.7)\n",
        "plt.xlabel('Value')\n",
        "plt.ylabel('Density')\n",
        "plt.title('Samples from Logistic Distribution')\n",
        "plt.grid(True)\n",
        "plt.show()\n"
      ],
      "metadata": {
        "id": "ever223vOex0",
        "colab": {
          "base_uri": "https://localhost:8080/",
          "height": 472
        },
        "outputId": "601a48f3-d6b7-4dad-f64f-481936f66ab9"
      },
      "execution_count": 2,
      "outputs": [
        {
          "output_type": "display_data",
          "data": {
            "text/plain": [
              "<Figure size 640x480 with 1 Axes>"
            ],
            "image/png": "[encoded data removed]"
          },
          "metadata": {}
        }
      ]
    },
    {
      "cell_type": "markdown",
      "source": [
        "### Problem #3 Generate 6 digit random secure OTP.\n",
        "* The randbelow function from secrets will generate a random value below the parameter value.\n",
        "* In order to keep it at the specified number of digits, the returned value needs to be formatted to have leading zeros."
      ],
      "metadata": {
        "id": "P4g233PYs-gJ"
      }
    },
    {
      "cell_type": "code",
      "source": [
        "import secrets\n",
        "\n",
        "otp = secrets.randbelow(10**6)\n",
        "otp_formatted = f'{otp:06}'\n",
        "\n",
        "print(\"Generated OTP:\", otp_formatted)"
      ],
      "metadata": {
        "id": "L1ytKYkxMtSJ",
        "colab": {
          "base_uri": "https://localhost:8080/"
        },
        "outputId": "0f8d4856-5019-45ea-ef3c-00c16be8c2e9"
      },
      "execution_count": 3,
      "outputs": [
        {
          "output_type": "stream",
          "name": "stdout",
          "text": [
            "Generated OTP: 644549\n"
          ]
        }
      ]
    },
    {
      "cell_type": "markdown",
      "source": [
        "### Problem #4\tPick a random character from a given string such as \"Simulation and modeling\""
      ],
      "metadata": {
        "id": "GPdbvqKft4QZ"
      }
    },
    {
      "cell_type": "code",
      "source": [
        "import random\n",
        "\n",
        "string = \"Simulation and modeling\"\n",
        "rand_char = random.choice(string)\n",
        "\n",
        "print(\"Rand picked character:\", rand_char)\n"
      ],
      "metadata": {
        "colab": {
          "base_uri": "https://localhost:8080/"
        },
        "id": "xWKo9kefs96D",
        "outputId": "c5286c03-424e-47c8-dce2-87b138de7208"
      },
      "execution_count": 4,
      "outputs": [
        {
          "output_type": "stream",
          "name": "stdout",
          "text": [
            "Rand picked character: l\n"
          ]
        }
      ]
    },
    {
      "cell_type": "markdown",
      "source": [
        "### Problem #5 Import string and random module. Generate a string with 5 characters with UPPER case and lower case letters only. No numbers and a special symbol."
      ],
      "metadata": {
        "id": "WEGQlY9YuQVB"
      }
    },
    {
      "cell_type": "code",
      "source": [
        "import string\n",
        "import random\n",
        "\n",
        "# upper and lowercase letters\n",
        "chars = string.ascii_letters  \n",
        "\n",
        "# using random.choice to pull any upper or lower case char in and\n",
        "# join them into a string. This will occur 5 times with the counting\n",
        "# for loop\n",
        "rand_str = ''.join(random.choice(chars) for count in range(5))\n",
        "\n",
        "print(\"Rand string:\", rand_str)"
      ],
      "metadata": {
        "colab": {
          "base_uri": "https://localhost:8080/"
        },
        "id": "CtUhJ0IruKQU",
        "outputId": "62d7efb2-f99f-4ca2-f841-19f7f48eb10e"
      },
      "execution_count": 5,
      "outputs": [
        {
          "output_type": "stream",
          "name": "stdout",
          "text": [
            "Rand string: GPKej\n"
          ]
        }
      ]
    },
    {
      "cell_type": "markdown",
      "source": [
        "### Problem #6 Import string and random module. Generate a Password with length 10 which contains 2 upper case letters, 1 digit, and 1 special symbol."
      ],
      "metadata": {
        "id": "XRRmhECUWPVr"
      }
    },
    {
      "cell_type": "code",
      "source": [
        "import string\n",
        "import random\n",
        "\n",
        "def generate_password():\n",
        "    # define the pool of characters for each category\n",
        "    uppers = string.ascii_uppercase  # uppercase letters\n",
        "    digits = string.digits  # digits (0-9)\n",
        "    spec_char = string.punctuation  # special symbols\n",
        "\n",
        "    # generate the required number of characters for each category\n",
        "    password = random.choices(uppers, k=2) + random.choices(digits, k=1) + random.choices(spec_char, k=1)\n",
        "\n",
        "    # generate the remaining characters of the password\n",
        "    remaining_len = 10 - len(password)\n",
        "    password += random.choices(uppers + digits + spec_char, k=remaining_len)\n",
        "\n",
        "    # shuffle the password to ensure randomness\n",
        "    random.shuffle(password)\n",
        "\n",
        "    # convert the password list to a string\n",
        "    password = ''.join(password)\n",
        "\n",
        "    return password\n",
        "\n",
        "# generate a password\n",
        "password = generate_password()\n",
        "\n",
        "# print the generated password\n",
        "print(\"Generated Password:\", password)\n"
      ],
      "metadata": {
        "id": "lUb7ORr6u9Xv",
        "colab": {
          "base_uri": "https://localhost:8080/"
        },
        "outputId": "09457ad1-cac9-4263-ed0b-40bd52572316"
      },
      "execution_count": 6,
      "outputs": [
        {
          "output_type": "stream",
          "name": "stdout",
          "text": [
            "Generated Password: `LLG,\\O+Y2\n"
          ]
        }
      ]
    },
    {
      "cell_type": "markdown",
      "source": [
        "### Problem #7 First generate evenly spaced values within 0 to 9. Give it new shape 3x3. Then randomly permute it."
      ],
      "metadata": {
        "id": "K-t0r2SiXe6u"
      }
    },
    {
      "cell_type": "code",
      "source": [
        "import numpy as np\n",
        "\n",
        "# generate evenly spaced integer values from 0 to 9\n",
        "values = np.arange(9)\n",
        "\n",
        "print('First form:')\n",
        "print(repr(values))\n",
        "\n",
        "# reshape the values into a 3x3 matrix\n",
        "matrix = values.reshape(3, 3)\n",
        "\n",
        "print('\\nSecond form:')\n",
        "print(repr(matrix))\n",
        "\n",
        "# randomly permute the matrix\n",
        "np.random.shuffle(matrix)\n",
        "\n",
        "# print the resulting matrix\n",
        "print('\\nThird form:')\n",
        "print(repr(matrix))\n"
      ],
      "metadata": {
        "colab": {
          "base_uri": "https://localhost:8080/"
        },
        "id": "wccoxWVlW_hb",
        "outputId": "2f0039ac-6f71-4763-e093-5d0b739edfe6"
      },
      "execution_count": 7,
      "outputs": [
        {
          "output_type": "stream",
          "name": "stdout",
          "text": [
            "First form:\n",
            "array([0, 1, 2, 3, 4, 5, 6, 7, 8])\n",
            "\n",
            "Second form:\n",
            "array([[0, 1, 2],\n",
            "       [3, 4, 5],\n",
            "       [6, 7, 8]])\n",
            "\n",
            "Third form:\n",
            "array([[3, 4, 5],\n",
            "       [0, 1, 2],\n",
            "       [6, 7, 8]])\n"
          ]
        }
      ]
    },
    {
      "cell_type": "markdown",
      "source": [
        "### Problem #9 Pick a random number from 1 to 6. Do it in such a way that every time you must get the same random output number(no hard coding numbers). do this 5 times."
      ],
      "metadata": {
        "id": "hdOnv4MmaHax"
      }
    },
    {
      "cell_type": "code",
      "source": [
        "import random\n",
        "\n",
        "# set the seed value for reproducibility\n",
        "random.seed(40)\n",
        "\n",
        "# generate the random output number\n",
        "\n",
        "#output = random.sample(range(1, 7), k=1)*5\n",
        "# print(output)\n",
        "\n",
        "output = random.sample(range(1, 7), k=1)[0]\n",
        "\n",
        "# repeat the same random output number 5 times\n",
        "for _ in range(5):\n",
        "  print(output)\n"
      ],
      "metadata": {
        "colab": {
          "base_uri": "https://localhost:8080/"
        },
        "id": "F3YldSdlXkhz",
        "outputId": "45d610e5-e443-4cc6-881a-638b9f2e4cb0"
      },
      "execution_count": 8,
      "outputs": [
        {
          "output_type": "stream",
          "name": "stdout",
          "text": [
            "4\n",
            "4\n",
            "4\n",
            "4\n",
            "4\n"
          ]
        }
      ]
    },
    {
      "cell_type": "markdown",
      "source": [
        "### Problem #10 Write an interactive Python program to play a “guess the  number” game. The computer should think of a random integer between  1 and 20 and the user (player) has to try to guess the number within six  attempts. The program should let the player know if the guess is too high or  too low. "
      ],
      "metadata": {
        "id": "XPsSG1RUbpFH"
      }
    },
    {
      "cell_type": "code",
      "source": [
        "import random\n",
        "\n",
        "def guessing_game():\n",
        "  # generate the secret num and set tries\n",
        "  secret = random.randint(1,20)\n",
        "  guesses = 6\n",
        "\n",
        "  \n",
        "\n",
        "  while guesses > 0:\n",
        "    print(f'You have {guesses} guesses.')\n",
        "    guess = int(input('Please guess an int between 1 and 20: '))\n",
        "\n",
        "    if guess < secret:\n",
        "      print(f'{guess} is too low...')\n",
        "    elif guess > secret:\n",
        "      print(f'{guess} is too high...')\n",
        "    else:\n",
        "      print(f'{guess} is correct! You win!...')\n",
        "      break\n",
        "\n",
        "    guesses -= 1\n",
        "  \n",
        "  if guesses == 0:\n",
        "    print(f\"Sorry you ran out of guesses. The correct answer was {secret}\")\n",
        "\n",
        "guessing_game()\n"
      ],
      "metadata": {
        "colab": {
          "base_uri": "https://localhost:8080/"
        },
        "id": "3LscCo5nZq_S",
        "outputId": "79396059-adcf-4e35-af14-413bde7322a7"
      },
      "execution_count": 11,
      "outputs": [
        {
          "output_type": "stream",
          "name": "stdout",
          "text": [
            "You have 6 guesses.\n",
            "Please guess an int between 1 and 20: 15\n",
            "15 is too high...\n",
            "You have 5 guesses.\n",
            "Please guess an int between 1 and 20: 8\n",
            "8 is too high...\n",
            "You have 4 guesses.\n",
            "Please guess an int between 1 and 20: 5\n",
            "5 is too high...\n",
            "You have 3 guesses.\n",
            "Please guess an int between 1 and 20: 2\n",
            "2 is correct! You win!...\n"
          ]
        }
      ]
    },
    {
      "cell_type": "code",
      "source": [],
      "metadata": {
        "id": "YA0nls0bd8tf"
      },
      "execution_count": null,
      "outputs": []
    }
  ]
}