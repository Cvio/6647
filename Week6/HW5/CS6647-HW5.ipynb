{
 "cells": [
  {
   "cell_type": "markdown",
   "id": "19769f33-02ef-4404-ada4-b61098e5d7e9",
   "metadata": {},
   "source": [
    "### CS6647 HW-5\n",
    "#### Steven Robbins\n",
    "#### 07/09/2023"
   ]
  },
  {
   "cell_type": "markdown",
   "id": "54110bac-3d3f-4df9-9569-77d10aa0798c",
   "metadata": {},
   "source": [
    "## Markov Chain Calculations - See final answers at bottom of notebook.\n",
    "\n",
    "#### Use the following state diagram:\n",
    "\n",
    "1. The starting state is Rest. Calculate the probability of possible activity on the 15th day. \n",
    "2. What about the state and probability after 10000 days?\n",
    "3. What do you observe from the above two?"
   ]
  },
  {
   "cell_type": "markdown",
   "id": "b149e67e-297d-45bf-992a-90ceb75e11c1",
   "metadata": {},
   "source": [
    "|         | Rest      | Exercises | Sweeties  |\n",
    "|---------|-----------|-----------|-----------|\n",
    "| Rest    |   0.2     |   0.6     |   0.2     |\n",
    "| Exercises |   0.1     |   0.6     |   0.3     |\n",
    "| Sweeties |   0.2     |   0.7     |   0.1     |"
   ]
  },
  {
   "cell_type": "markdown",
   "id": "1215bf59-def6-41a1-8001-3153031a0bd0",
   "metadata": {},
   "source": [
    "### I'm going to try two methods - the Random Walk and the Eigenvector Linear Algebra approach."
   ]
  },
  {
   "cell_type": "markdown",
   "id": "711f4367-97ce-492e-b796-7ccef581bd54",
   "metadata": {},
   "source": [
    "### In the lecture video by [Normalized Nerd](https://www.youtube.com/watch?v=i3AkTO9HLXo) he mentions writing a Python program that represents a Random Walk on the Markov Chain. He didn't show his code but I tried to implement this below."
   ]
  },
  {
   "cell_type": "code",
   "execution_count": 1,
   "id": "fa728246-f49f-4031-8374-caaae344b90a",
   "metadata": {},
   "outputs": [],
   "source": [
    "import random\n",
    "import numpy as np\n",
    "import matplotlib.pyplot as plt\n",
    "\n",
    "\n",
    "def RandomWalk(current_state, num_steps):\n",
    "    # trans probabilities\n",
    "    transition_matrix = [\n",
    "        [0.2, 0.6, 0.2],\n",
    "        [0.1, 0.6, 0.3],\n",
    "        [0.2, 0.7, 0.1]\n",
    "    ]\n",
    "\n",
    "    # possible states\n",
    "    states = ['Rest', 'Exercises', 'Sweeties']\n",
    "\n",
    "    state_frequencies = {state: 0 for state in states}\n",
    "\n",
    "    # random walk\n",
    "    print(f\"Starting state: {current_state}\")\n",
    "    for step in range(num_steps):\n",
    "\n",
    "        # index of the current state\n",
    "        current_state_index = states.index(current_state)\n",
    "\n",
    "        # increment the freq of the current state\n",
    "        state_frequencies[current_state] += 1\n",
    "\n",
    "        # transition probabilities for the current state\n",
    "        transition_probabilities = transition_matrix[current_state_index]\n",
    "\n",
    "        # get next state based on the trans probabilities\n",
    "        next_state = random.choices(states, weights=transition_probabilities)[0]\n",
    "\n",
    "        # update the current state\n",
    "        current_state = next_state\n",
    "\n",
    "        # print(f\"Step {step+1}: {current_state}\")\n",
    "\n",
    "    \n",
    "    # print final state\n",
    "    print(f\"Step {step+1}: {current_state}\\n\")\n",
    "    \n",
    "    # probabilities of each state\n",
    "    state_probabilities = {state: frequency / num_steps for state, frequency in state_frequencies.items()}\n",
    "\n",
    "    for state, probability in state_probabilities.items():\n",
    "        print(f\"Probability of {state}: {probability}\")"
   ]
  },
  {
   "cell_type": "markdown",
   "id": "7a42736c-4c09-4a33-821f-721277af10dd",
   "metadata": {},
   "source": [
    "### He also mentions using Linear Algebra to solve for a directed graph and I've tried to implement this below.\n",
    "#### This will hopefully:\n",
    "#### 1. take the starting state of Rest and encode it into a row vector of [1, 0, 0]\n",
    "#### 2. multiply that row vector by the transition matrix\n",
    "## π<sub>0</sub>[1, 0, 0] * [[0.2, 0.6, 0.2],[0.1, 0.6, 0.3],[0.2, 0.7, 0.1]] = [0.2 0.6 0.2]\n",
    "#### 3. take the new row and multiply that by the transition matrix again\n",
    "## π<sub>1</sub>[0.2 0.6 0.2] * [[0.2, 0.6, 0.2],[0.1, 0.6, 0.3],[0.2, 0.7, 0.1]] = [0.14, 0.62, 0.24]\n",
    "#### 4. and so on...\n",
    "## π<sub>2</sub>[0.14, 0.62, 0.24] * [[0.2, 0.6, 0.2],[0.1, 0.6, 0.3],[0.2, 0.7, 0.1]] = [0.138, 0.624, 0.238]\n",
    "#### \n"
   ]
  },
  {
   "cell_type": "code",
   "execution_count": 2,
   "id": "bd6f3565-b223-47ff-9304-39eae3a9d8f1",
   "metadata": {},
   "outputs": [],
   "source": [
    "import random\n",
    "import numpy as np\n",
    "import matplotlib.pyplot as plt\n",
    "\n",
    "def MatrixMult(current_state, num_steps):\n",
    "    transition_matrix = [\n",
    "        [0.2, 0.6, 0.2],\n",
    "        [0.1, 0.6, 0.3],\n",
    "        [0.2, 0.7, 0.1]\n",
    "    ]\n",
    "\n",
    "    # possible states\n",
    "    states = ['Rest', 'Exercises', 'Sweeties']\n",
    "\n",
    "    state_frequencies = {state: 0 for state in states}\n",
    "    \n",
    "    starting_state = [1 if state == current_state else 0 for state in states]\n",
    "    \n",
    "    print(f\"Starting State Vector: {starting_state}\\n\")\n",
    "    \n",
    "    transition_matrix = np.array(transition_matrix)\n",
    "\n",
    "    state_probabilities = starting_state\n",
    "\n",
    "    for step in range(num_steps):\n",
    "        state_probabilities = state_probabilities @ transition_matrix\n",
    "        \n",
    "    print(\"State Probabilities\")\n",
    "    for state, probability in zip(states, state_probabilities):\n",
    "        print(f\"{state}: {probability} after step {num_steps}\")\n",
    "    \n",
    "    \n",
    "    # calculate probability convergence after some large set of steps\n",
    "    # eigenvector corresponding to eigenvalue 1\n",
    "    eigenvalues, eigenvectors = np.linalg.eig(transition_matrix.T)\n",
    "    index = np.where(np.isclose(eigenvalues, 1))[0][0]\n",
    "    stationary_vector = np.real(eigenvectors[:, index] / np.sum(eigenvectors[:, index]))\n",
    "\n",
    "    print(\"\\nLong Term Probabilities\")\n",
    "    for state, long_term_prob in zip(states, stationary_vector):\n",
    "        print(f\"{state}: {long_term_prob} after step {num_steps}\")\n",
    "        \n"
   ]
  },
  {
   "cell_type": "markdown",
   "id": "ee90b45a-62c5-488f-80df-ebd546ab3214",
   "metadata": {},
   "source": [
    "#### Random Walk - 15 days"
   ]
  },
  {
   "cell_type": "code",
   "execution_count": 3,
   "id": "9f4c971f-e1db-471b-8b7f-57d4322cfb37",
   "metadata": {},
   "outputs": [
    {
     "name": "stdout",
     "output_type": "stream",
     "text": [
      "Starting state: Rest\n",
      "Step 15: Exercises\n",
      "\n",
      "Probability of Rest: 0.13333333333333333\n",
      "Probability of Exercises: 0.5333333333333333\n",
      "Probability of Sweeties: 0.3333333333333333\n"
     ]
    }
   ],
   "source": [
    "# starting state\n",
    "current_state = 'Rest' # <-- change this for different start state\n",
    "\n",
    "# steps\n",
    "num_steps = 15  # <-- change this for different number of steps\n",
    "\n",
    "RandomWalk(current_state, num_steps)\n"
   ]
  },
  {
   "cell_type": "markdown",
   "id": "9d6261b4-3f47-4952-ab16-6dd6cfbd74cf",
   "metadata": {},
   "source": [
    "#### Linear Algebra - 15 days"
   ]
  },
  {
   "cell_type": "code",
   "execution_count": 4,
   "id": "c13b9044-163a-446c-b05f-e789d2ebacbf",
   "metadata": {},
   "outputs": [
    {
     "name": "stdout",
     "output_type": "stream",
     "text": [
      "Starting State Vector: [1, 0, 0]\n",
      "\n",
      "State Probabilities\n",
      "Rest: 0.13761467889913798 after step 15\n",
      "Exercises: 0.6238532110092638 after step 15\n",
      "Sweeties: 0.23853211009159792 after step 15\n",
      "\n",
      "Long Term Probabilities\n",
      "Rest: 0.13761467889908255 after step 15\n",
      "Exercises: 0.6238532110091743 after step 15\n",
      "Sweeties: 0.2385321100917431 after step 15\n"
     ]
    }
   ],
   "source": [
    "# starting state\n",
    "current_state = 'Rest' # <-- change this for different start state\n",
    "\n",
    "# steps\n",
    "num_steps = 15  # <-- change this for different number of steps\n",
    "\n",
    "MatrixMult(current_state, num_steps)"
   ]
  },
  {
   "cell_type": "markdown",
   "id": "41fad4fa-8a7d-421d-81f3-280486472ffb",
   "metadata": {},
   "source": [
    "#### Random Walk - 10000 days"
   ]
  },
  {
   "cell_type": "code",
   "execution_count": 5,
   "id": "7b9c8d59-c8b8-440f-a8c9-8cd496302e55",
   "metadata": {},
   "outputs": [
    {
     "name": "stdout",
     "output_type": "stream",
     "text": [
      "Starting state: Rest\n",
      "Step 10000: Sweeties\n",
      "\n",
      "Probability of Rest: 0.1315\n",
      "Probability of Exercises: 0.6233\n",
      "Probability of Sweeties: 0.2452\n"
     ]
    }
   ],
   "source": [
    "# starting state\n",
    "current_state = 'Rest' # <-- change this for different start state\n",
    "\n",
    "# steps\n",
    "num_steps = 10000  # <-- change this for different number of steps\n",
    "\n",
    "RandomWalk(current_state, num_steps)"
   ]
  },
  {
   "cell_type": "markdown",
   "id": "1f455714-5fb9-4112-ba16-1bd447280da4",
   "metadata": {},
   "source": [
    "#### Linear Algebra - 10000 days"
   ]
  },
  {
   "cell_type": "code",
   "execution_count": 6,
   "id": "9c1c8ceb-ff92-49dd-a24e-9bf9f2090925",
   "metadata": {},
   "outputs": [
    {
     "name": "stdout",
     "output_type": "stream",
     "text": [
      "Starting State Vector: [1, 0, 0]\n",
      "\n",
      "State Probabilities\n",
      "Rest: 0.13761467889908252 after step 10000\n",
      "Exercises: 0.623853211009174 after step 10000\n",
      "Sweeties: 0.23853211009174302 after step 10000\n",
      "\n",
      "Long Term Probabilities\n",
      "Rest: 0.13761467889908255 after step 10000\n",
      "Exercises: 0.6238532110091743 after step 10000\n",
      "Sweeties: 0.2385321100917431 after step 10000\n"
     ]
    }
   ],
   "source": [
    "# starting state\n",
    "current_state = 'Rest' # <-- change this for different start state\n",
    "\n",
    "# steps\n",
    "num_steps = 10000  # <-- change this for different number of steps\n",
    "\n",
    "MatrixMult(current_state, num_steps)"
   ]
  },
  {
   "cell_type": "markdown",
   "id": "c4e1eb76-1087-4306-9255-8b41870cabc3",
   "metadata": {},
   "source": [
    "\n",
    "# Final Answers\n",
    "## After all of that work, I've learned enough to be able to simplify the process using only the dot products with the Numpy linear algebra library."
   ]
  },
  {
   "cell_type": "code",
   "execution_count": 7,
   "id": "59160b5b-011f-4e28-90b3-bf4f727f1b2d",
   "metadata": {},
   "outputs": [
    {
     "name": "stdout",
     "output_type": "stream",
     "text": [
      "\n",
      "Final Assignment Answers:\n",
      "\n",
      "1. The starting state is Rest. Calculate the probability of possible activity on the 15th day. \n",
      "Probability distribution after 15 days: [0.13761468 0.62385321 0.23853211]\n",
      "\n",
      "2. What about the state and probability after 10000 days?\n",
      "Probability distribution after 10000 days: [0.13761468 0.62385321 0.23853211]\n",
      "\n",
      "3. What do you observe from the above two?\n",
      "The state probabilities after 15 days are nearly the same as after 1000 days.\n",
      "This can be demonstrated from viewing earlier state probabilities.\n",
      "From the third day on, the probabilities are roughly the same.\n",
      "After the 10th day, they are at least rounded to the same value.\n",
      "\n",
      "Initial state:  [1. 0. 0.]\n",
      "Probability distribution after 1 days: [0.2 0.6 0.2]\n",
      "Probability distribution after 2 days: [0.14 0.62 0.24]\n",
      "Probability distribution after 3 days: [0.138 0.624 0.238]\n",
      "Probability distribution after 4 days: [0.1376 0.6238 0.2386]\n",
      "Probability distribution after 5 days: [0.13762 0.62386 0.23852]\n",
      "Probability distribution after 6 days: [0.137614 0.623852 0.238534]\n",
      "Probability distribution after 7 days: [0.1376148 0.6238534 0.2385318]\n",
      "Probability distribution after 8 days: [0.13761466 0.62385318 0.23853216]\n",
      "Probability distribution after 9 days: [0.13761468 0.62385322 0.2385321 ]\n",
      "Probability distribution after 10 days: [0.13761468 0.62385321 0.23853211]\n",
      "Probability distribution after 11 days: [0.13761468 0.62385321 0.23853211]\n",
      "Probability distribution after 12 days: [0.13761468 0.62385321 0.23853211]\n",
      "Probability distribution after 13 days: [0.13761468 0.62385321 0.23853211]\n",
      "Probability distribution after 14 days: [0.13761468 0.62385321 0.23853211]\n",
      "\n",
      "We can see as the values flatten out, they're not likely to change much no matter how many steps we add.\n",
      "\n"
     ]
    },
    {
     "data": {
      "image/png": "[encoded data removed]",
      "text/plain": [
       "<Figure size 640x480 with 1 Axes>"
      ]
     },
     "metadata": {},
     "output_type": "display_data"
    }
   ],
   "source": [
    "import numpy as np\n",
    "import matplotlib.pyplot as plt\n",
    "\n",
    "transition_matrix = np.array([\n",
    "    [0.2, 0.6, 0.2],\n",
    "    [0.1, 0.6, 0.3],\n",
    "    [0.2, 0.7, 0.1]\n",
    "])\n",
    "\n",
    "starting_state = np.array([1, 0, 0])  # Rest state\n",
    "\n",
    "# for visualization of prob convergence\n",
    "probabilities = []\n",
    "current_state = starting_state\n",
    "\n",
    "print(\"\\nFinal Assignment Answers:\")\n",
    "# calc the probability distribution after 15 days\n",
    "prob = np.dot(starting_state, np.linalg.matrix_power(transition_matrix, 15))\n",
    "print(\"\\n1. The starting state is Rest. Calculate the probability of possible activity on the 15th day. \")\n",
    "print(\"Probability distribution after 15 days:\", prob)\n",
    "\n",
    "# calc the probability distribution after 10000 days\n",
    "print(\"\\n2. What about the state and probability after 10000 days?\")\n",
    "prob = np.dot(starting_state, np.linalg.matrix_power(transition_matrix, 10000))\n",
    "print(\"Probability distribution after 10000 days:\", prob)\n",
    "\n",
    "# calc the probability distribution for first 5 days\n",
    "print(\"\\n3. What do you observe from the above two?\")\n",
    "print(f\"The state probabilities after 15 days are nearly the same as after 1000 days.\")\n",
    "print(f\"This can be demonstrated from viewing earlier state probabilities.\")\n",
    "print(\"From the third day on, the probabilities are roughly the same.\")\n",
    "print(\"After the 10th day, they are at least rounded to the same value.\")\n",
    "for i in range(15):\n",
    "    prob = np.dot(starting_state, np.linalg.matrix_power(transition_matrix, i))\n",
    "    if (i==0):\n",
    "        print(f\"\\nInitial state: \", prob)\n",
    "    else:\n",
    "        print(f\"Probability distribution after {i} days:\", prob)\n",
    "\n",
    "print(f\"\\nWe can see as the values flatten out, they're not likely to change much no matter how many steps we add.\\n\")\n",
    "for day in range(15):\n",
    "    probabilities.append(current_state)\n",
    "    current_state = np.dot(current_state, transition_matrix)\n",
    "\n",
    "probabilities = np.array(probabilities)\n",
    "\n",
    "# Plot the probabilities over time\n",
    "plt.figure()\n",
    "plt.plot(probabilities[:, 0], label='Rest')\n",
    "plt.plot(probabilities[:, 1], label='Study')\n",
    "plt.plot(probabilities[:, 2], label='Exercise')\n",
    "plt.xlabel('Number of Days')\n",
    "plt.ylabel('Probability')\n",
    "plt.title('Probability Convergence over Time')\n",
    "plt.legend()\n",
    "plt.show()"
   ]
  },
  {
   "cell_type": "code",
   "execution_count": null,
   "id": "e5a5d01e-796c-4874-8ab0-90bded916dbb",
   "metadata": {},
   "outputs": [],
   "source": []
  }
 ],
 "metadata": {
  "kernelspec": {
   "display_name": "dev",
   "language": "python",
   "name": "dev"
  },
  "language_info": {
   "codemirror_mode": {
    "name": "ipython",
    "version": 3
   },
   "file_extension": ".py",
   "mimetype": "text/x-python",
   "name": "python",
   "nbconvert_exporter": "python",
   "pygments_lexer": "ipython3",
   "version": "3.10.11"
  }
 },
 "nbformat": 4,
 "nbformat_minor": 5
}
