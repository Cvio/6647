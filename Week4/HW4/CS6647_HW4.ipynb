{
 "cells": [
  {
   "attachments": {},
   "cell_type": "markdown",
   "metadata": {},
   "source": [
    "##### 1. Suppose you have three bills. Two are $10 bills and the other one is a $100 bill. Your friend puts each bill in a box. So one box has $100, and the other two boxes have $10 each. You pick a box, let's say box 1, then your friend who knows what's inside the boxes, opens another box, say box 3, which has a $10 bill. Do you want to stick your choice or switch to another box in order to get the $100 bill?  ( if the 100 is inside box 2 the friend must open box 3, but if the 100 is inside box 1 the friend can open either box 2 or 3.)\n",
    "\n",
    "##### Produce the probability numbers and a graph to justify your choice to stick or switch. "
   ]
  },
  {
   "attachments": {},
   "cell_type": "markdown",
   "metadata": {},
   "source": []
  },
  {
   "cell_type": "code",
   "execution_count": 11,
   "metadata": {},
   "outputs": [],
   "source": [
    "import numpy as np\n",
    "import matplotlib.pyplot as plt"
   ]
  },
  {
   "cell_type": "code",
   "execution_count": 12,
   "metadata": {},
   "outputs": [],
   "source": [
    "# params for MC simulation\n",
    "simulations = 10000\n",
    "stick_count = 0\n",
    "switch_count = 0"
   ]
  },
  {
   "cell_type": "code",
   "execution_count": 13,
   "metadata": {},
   "outputs": [],
   "source": [
    "# this loop is what makes this a Monte Carlo simulation\n",
    "# it runs the simulation a large number of times\n",
    "# and keeps track of the number of times you stick or switch\n",
    "for simulation in range(simulations):\n",
    "\n",
    "    # your friend puts the bills ($10, $10, $100) into the three boxes\n",
    "    boxes = [10, 10, 100]    # <-- these are the bills\n",
    "    np.random.shuffle(boxes) # <-- this makes which bill is in which box unknown\n",
    "\n",
    "    # randomly select a box as your first choice\n",
    "    initial_choice = np.random.randint(3)\n",
    "\n",
    "    # determine the box to be opened by your friend\n",
    "    if boxes[initial_choice] == 100:\n",
    "\n",
    "        # your friend can open either box 2 or box 3 randomly\n",
    "        friend_open = np.random.choice([1, 2])\n",
    "    else:\n",
    "\n",
    "        # your friend must open box 3\n",
    "        friend_open = 2\n",
    "\n",
    "    # evaluate the choice to stick or switch\n",
    "    if friend_open == 2:\n",
    "        \n",
    "        # switch\n",
    "        final_choice = 3 - initial_choice\n",
    "        switch_count += 1\n",
    "    else:\n",
    "\n",
    "        # stick\n",
    "        final_choice = initial_choice\n",
    "        stick_count += 1"
   ]
  },
  {
   "cell_type": "code",
   "execution_count": 14,
   "metadata": {},
   "outputs": [
    {
     "name": "stdout",
     "output_type": "stream",
     "text": [
      "Chances if you stick: 0.1656\n",
      "Chances if you switch: 0.8344\n"
     ]
    }
   ],
   "source": [
    "# calc the probabilities\n",
    "stick_prob = stick_count / simulations\n",
    "switch_prob = switch_count / simulations\n",
    "\n",
    "# results\n",
    "print(\"Chances if you stick:\", stick_prob)\n",
    "print(\"Chances if you switch:\", switch_prob)"
   ]
  },
  {
   "cell_type": "code",
   "execution_count": 15,
   "metadata": {},
   "outputs": [
    {
     "data": {
      "image/png": "[encoded data removed]",
      "text/plain": [
       "<Figure size 640x480 with 1 Axes>"
      ]
     },
     "metadata": {},
     "output_type": "display_data"
    }
   ],
   "source": [
    "# vizualize the results\n",
    "labels = [\"Stick\", \"Switch\"]\n",
    "probabilities = [stick_prob, switch_prob]\n",
    "plt.bar(labels, probabilities)\n",
    "plt.xlabel(\"Strategy\")\n",
    "plt.ylabel(\"Probability\")\n",
    "plt.title(\"Monte Carlo Simulation: Stick vs. Switch\")\n",
    "plt.show()"
   ]
  },
  {
   "cell_type": "code",
   "execution_count": null,
   "metadata": {},
   "outputs": [],
   "source": []
  }
 ],
 "metadata": {
  "kernelspec": {
   "display_name": "dev",
   "language": "python",
   "name": "python3"
  },
  "language_info": {
   "codemirror_mode": {
    "name": "ipython",
    "version": 3
   },
   "file_extension": ".py",
   "mimetype": "text/x-python",
   "name": "python",
   "nbconvert_exporter": "python",
   "pygments_lexer": "ipython3",
   "version": "3.10.11"
  },
  "orig_nbformat": 4
 },
 "nbformat": 4,
 "nbformat_minor": 2
}
